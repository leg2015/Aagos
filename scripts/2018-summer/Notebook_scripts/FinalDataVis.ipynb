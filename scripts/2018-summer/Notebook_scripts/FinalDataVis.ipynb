{
 "cells": [
  {
   "cell_type": "code",
   "execution_count": 195,
   "metadata": {},
   "outputs": [],
   "source": [
    "import pandas as pd\n",
    "import numpy as np\n",
    "import matplotlib.pyplot as plt\n",
    "import seaborn as sns\n",
    "import glob\n",
    "import sys\n",
    "import argparse as argp\n",
    "import random as rand"
   ]
  },
  {
   "cell_type": "code",
   "execution_count": 196,
   "metadata": {},
   "outputs": [],
   "source": [
    "mut_50_dat = pd.read_csv('/Users/leg2015/workspace/Aagos/Data/Mut_Treat_Change_50_CleanedDataRep.csv', index_col=\"update\", float_precision=\"high\")\n",
    "mut_0_dat = pd.read_csv('/Users/leg2015/workspace/Aagos/Data/Mut_Treat_Change_0_CleanedDataRep.csv', index_col=\"update\", float_precision=\"high\")\n",
    "change_dat = pd.read_csv('/Users/leg2015/workspace/Aagos/Data/Change_Treat_f_.003_CleanedDataRep.csv', index_col=\"update\", float_precision=\"high\")"
   ]
  },
  {
   "cell_type": "code",
   "execution_count": 197,
   "metadata": {},
   "outputs": [],
   "source": [
    "mut_50_max = mut_50_dat.loc[50000]\n",
    "mut_0_max = mut_0_dat.loc[50000]\n",
    "change_max = change_dat.loc[50000]\n",
    "# change_max"
   ]
  },
  {
   "cell_type": "code",
   "execution_count": 198,
   "metadata": {},
   "outputs": [
    {
     "name": "stderr",
     "output_type": "stream",
     "text": [
      "/anaconda3/lib/python3.6/site-packages/ipykernel_launcher.py:1: SettingWithCopyWarning: \n",
      "A value is trying to be set on a copy of a slice from a DataFrame.\n",
      "Try using .loc[row_indexer,col_indexer] = value instead\n",
      "\n",
      "See the caveats in the documentation: http://pandas.pydata.org/pandas-docs/stable/indexing.html#indexing-view-versus-copy\n",
      "  \"\"\"Entry point for launching an IPython kernel.\n",
      "/anaconda3/lib/python3.6/site-packages/ipykernel_launcher.py:2: SettingWithCopyWarning: \n",
      "A value is trying to be set on a copy of a slice from a DataFrame.\n",
      "Try using .loc[row_indexer,col_indexer] = value instead\n",
      "\n",
      "See the caveats in the documentation: http://pandas.pydata.org/pandas-docs/stable/indexing.html#indexing-view-versus-copy\n",
      "  \n",
      "/anaconda3/lib/python3.6/site-packages/ipykernel_launcher.py:3: SettingWithCopyWarning: \n",
      "A value is trying to be set on a copy of a slice from a DataFrame.\n",
      "Try using .loc[row_indexer,col_indexer] = value instead\n",
      "\n",
      "See the caveats in the documentation: http://pandas.pydata.org/pandas-docs/stable/indexing.html#indexing-view-versus-copy\n",
      "  This is separate from the ipykernel package so we can avoid doing imports until\n"
     ]
    }
   ],
   "source": [
    "mut_0_max['overlap'] = (mut_0_max[\"one_gene_overlap\"] + mut_0_max[\"two_gene_overlap\"] + mut_0_max[\"three_gene_overlap\"] + mut_0_max[\"four_gene_overlap\"] + mut_0_max[\"five_gene_overlap\"] + mut_0_max[\"six_gene_overlap\"] + mut_0_max[\"seven_gene_overlap\"] + mut_0_max[\"eight_gene_overlap\"] + mut_0_max[\"nine_gene_overlap\"] + mut_0_max[\"ten_gene_overlap\"] + mut_0_max[\"eleven_gene_overlap\"] + mut_0_max[\"twelve_gene_overlap\"] + mut_0_max[\"thirteen_gene_overlap\"] + mut_0_max[\"fourteen_gene_overlap\"] + mut_0_max[\"fifteen_gene_overlap\"] + mut_0_max[\"sixteen_gene_overlap\"]) / 17\n",
    "mut_50_max['overlap'] = (mut_50_max[\"one_gene_overlap\"] + mut_50_max[\"two_gene_overlap\"] + mut_50_max[\"three_gene_overlap\"] + mut_50_max[\"four_gene_overlap\"] + mut_50_max[\"five_gene_overlap\"] + mut_50_max[\"six_gene_overlap\"] + mut_50_max[\"seven_gene_overlap\"] + mut_50_max[\"eight_gene_overlap\"] + mut_50_max[\"nine_gene_overlap\"] + mut_50_max[\"ten_gene_overlap\"] + mut_50_max[\"eleven_gene_overlap\"] + mut_50_max[\"twelve_gene_overlap\"] + mut_50_max[\"thirteen_gene_overlap\"] + mut_50_max[\"fourteen_gene_overlap\"] + mut_50_max[\"fifteen_gene_overlap\"] + mut_50_max[\"sixteen_gene_overlap\"]) / 17\n",
    "change_max['overlap'] = (change_max[\"one_gene_overlap\"] + change_max[\"two_gene_overlap\"] + change_max[\"three_gene_overlap\"] + change_max[\"four_gene_overlap\"] + change_max[\"five_gene_overlap\"] + change_max[\"six_gene_overlap\"] + change_max[\"seven_gene_overlap\"] + change_max[\"eight_gene_overlap\"] + change_max[\"nine_gene_overlap\"] + change_max[\"ten_gene_overlap\"] + change_max[\"eleven_gene_overlap\"] + change_max[\"twelve_gene_overlap\"] + change_max[\"thirteen_gene_overlap\"] + change_max[\"fourteen_gene_overlap\"] + change_max[\"fifteen_gene_overlap\"] + change_max[\"sixteen_gene_overlap\"]) / 17"
   ]
  },
  {
   "cell_type": "code",
   "execution_count": 199,
   "metadata": {},
   "outputs": [
    {
     "name": "stderr",
     "output_type": "stream",
     "text": [
      "/anaconda3/lib/python3.6/site-packages/ipykernel_launcher.py:1: SettingWithCopyWarning: \n",
      "A value is trying to be set on a copy of a slice from a DataFrame.\n",
      "Try using .loc[row_indexer,col_indexer] = value instead\n",
      "\n",
      "See the caveats in the documentation: http://pandas.pydata.org/pandas-docs/stable/indexing.html#indexing-view-versus-copy\n",
      "  \"\"\"Entry point for launching an IPython kernel.\n",
      "/anaconda3/lib/python3.6/site-packages/ipykernel_launcher.py:2: SettingWithCopyWarning: \n",
      "A value is trying to be set on a copy of a slice from a DataFrame.\n",
      "Try using .loc[row_indexer,col_indexer] = value instead\n",
      "\n",
      "See the caveats in the documentation: http://pandas.pydata.org/pandas-docs/stable/indexing.html#indexing-view-versus-copy\n",
      "  \n"
     ]
    }
   ],
   "source": [
    "mut_0_max['change'] = 0\n",
    "mut_50_max['change'] = 50\n",
    "mut_tot = pd.concat([mut_0_max, mut_50_max], axis=0)\n",
    "mut_tot.to_csv(\"R_Data_mut\")\n",
    "change_max.to_csv(\"R_Data_Change\")\n",
    "# mut_tot"
   ]
  },
  {
   "cell_type": "code",
   "execution_count": 200,
   "metadata": {},
   "outputs": [],
   "source": [
    "sns.set_style('ticks')\n",
    "sns.set(font_scale=1.5)\n",
    "sns.set(font=\"sans-serif\")"
   ]
  },
  {
   "cell_type": "code",
   "execution_count": 201,
   "metadata": {},
   "outputs": [
    {
     "data": {
      "image/png": "[encoded data removed]",
      "text/plain": [
       "<Figure size 864x72 with 1 Axes>"
      ]
     },
     "metadata": {},
     "output_type": "display_data"
    },
    {
     "data": {
      "image/png": "[encoded data removed]",
      "text/plain": [
       "<Figure size 864x72 with 1 Axes>"
      ]
     },
     "metadata": {},
     "output_type": "display_data"
    }
   ],
   "source": [
    "# paliete = ['#a6cee3','#1f78b4','#b2df8a','#33a02c','#fb9a99','#e31a1c','#fdbf6f','#ff7f00','#cab2d6','#6a3d9a','#ffff99','#b15928']\n",
    "# pooplete = ['#8dd3c7','#ffffb3','#bebada','#fb8072','#80b1d3','#fdb462','#b3de69','#fccde5','#d9d9d9','#bc80bd','#ccebc5','#ffed6f']\n",
    "# rand.shuffle(pooplete)\n",
    "# rand.shuffle(paliete)\n",
    "sns.palplot(pooplete)\n",
    "sns.palplot(paliete)\n"
   ]
  },
  {
   "cell_type": "code",
   "execution_count": 202,
   "metadata": {},
   "outputs": [
    {
     "data": {
      "image/png": "[encoded data removed]",
      "text/plain": [
       "<Figure size 432x288 with 1 Axes>"
      ]
     },
     "metadata": {},
     "output_type": "display_data"
    }
   ],
   "source": [
    "# a4_dims = (6, 4)\n",
    "# df = mylib.load_data()\n",
    "# fig, ax = plt.subplots(figsize=a4_dims)\n",
    "palette = [\"#9CC378\"]\n",
    "ch_mut_cod_0_plot = sns.boxplot( y=mut_0_max[\"coding_sites\"], x=\"f\", data=mut_0_max, color=pooplete[0] ,fliersize=8, linewidth=1)\n",
    "plt.ylim(0, 128)\n",
    "\n",
    "# ch_mut_cod_0_plot.set(title=\"Effect of Mutation Rate on Number of Coding Sites\" , xlabel='Bit Flip Mutation Rate', ylabel='Number of Coding Sites')\n",
    "ch_mut_cod_0_plot.set( xlabel='Bit Flip Mutation Rate', ylabel='Number of Coding Sites')\n",
    "labels = []\n",
    "for t in ch_mut_cod_0_plot.get_xticklabels():\n",
    "        if float(t.get_text()) == .00001:\n",
    "            labels.append('%.5f' % float(t.get_text()))\n",
    "        else: \n",
    "            labels.append(t.get_text())\n",
    "            \n",
    "ch_mut_cod_0_plot.set_xticklabels(labels)\n",
    "# leg = ch_mut_cod_0_plot.get_legend()\n",
    "# new_title = 'Change Rate'\n",
    "# leg.set_title(new_title)\n",
    "# # leg.loc(3)\n",
    "# plt.legend(loc=3)\n",
    "# leg = ch_mut_cod_0_plot.get_legend()\n",
    "# new_title = 'Change Rate'\n",
    "# leg.set_title(new_title)\n",
    "sns.set(font_scale=1.25)\n",
    "sns.despine()\n",
    "sns.set_style('ticks')\n",
    "plt.tight_layout()\n",
    "plt.savefig(\"ch_mut_0_change.pdf\")"
   ]
  },
  {
   "cell_type": "code",
   "execution_count": 203,
   "metadata": {},
   "outputs": [
    {
     "data": {
      "image/png": "[encoded data removed]",
      "text/plain": [
       "<Figure size 432x288 with 1 Axes>"
      ]
     },
     "metadata": {},
     "output_type": "display_data"
    }
   ],
   "source": [
    "# a4_dims = (6, 4)\n",
    "# df = mylib.load_data()\n",
    "# fig, ax = plt.subplots(figsize=a4_dims)\n",
    "\n",
    "palette = [\"#d95f02\"]\n",
    "ch_mut_fit_0_plot = sns.boxplot( y=mut_0_max[\"fitness\"], x=\"f\", data=mut_0_max, color=paliete[0] ,fliersize=8, linewidth=1)\n",
    "plt.ylim(8, 16)\n",
    "\n",
    "# ch_mut_fit_0_plot.set(title=\"Effect of Mutation Rate on Fitness\" , xlabel='Bit Flip Mutation Rate', ylabel='Fitness')\n",
    "ch_mut_fit_0_plot.set( xlabel='Bit Flip Mutation Rate', ylabel='Fitness')\n",
    "labels = []\n",
    "for t in ch_mut_fit_0_plot.get_xticklabels():\n",
    "        if float(t.get_text()) == .00001:\n",
    "            labels.append('%.5f' % float(t.get_text()))\n",
    "        else: \n",
    "            labels.append(t.get_text())\n",
    "            \n",
    "ch_mut_fit_0_plot.set_xticklabels(labels)\n",
    "# leg = ch_mut_fit_0_plot.get_legend()\n",
    "# new_title = 'Change Rate'\n",
    "# leg.set_title(new_title)\n",
    "# # leg.loc(3)\n",
    "# plt.legend(loc=3)\n",
    "# leg = ch_mut_fit_0_plot.get_legend()\n",
    "# new_title = 'Change Rate'\n",
    "# leg.set_title(new_title)\n",
    "sns.set(font_scale=1.25)\n",
    "sns.despine()\n",
    "sns.set_style('ticks')\n",
    "plt.tight_layout()\n",
    "plt.savefig(\"ch_mut_0_fitness.pdf\")"
   ]
  },
  {
   "cell_type": "code",
   "execution_count": 204,
   "metadata": {},
   "outputs": [
    {
     "data": {
      "image/png": "[encoded data removed]",
      "text/plain": [
       "<Figure size 432x288 with 1 Axes>"
      ]
     },
     "metadata": {},
     "output_type": "display_data"
    }
   ],
   "source": [
    "plt.ylim(8, 16)\n",
    "ch_env_fit_plot = sns.boxplot(y=change_max[\"fitness\"], x=\"change\", data=change_max, linewidth=1.1, palette=paliete)\n",
    "# ch_env_fit_plot.set(title=\"Effect of Environmental Change Rate on Fitness\", xlabel=\"Environmental Change Rate\", ylabel=\"Fitness\")\n",
    "ch_env_fit_plot.set( xlabel=\"Environmental Change Rate\", ylabel=\"Fitness\")\n",
    "# plt.suptitle(\"Effect of Changing Environment Rate on Fitness\")\n",
    "sns.despine()\n",
    "# sns.color_palette(\"colorblind\")\n",
    "sns.set(font_scale=1.3)\n",
    "sns.set_style('ticks')\n",
    "plt.tight_layout()\n",
    "plt.savefig(\"ch_env_fitness.pdf\")"
   ]
  },
  {
   "cell_type": "code",
   "execution_count": 205,
   "metadata": {},
   "outputs": [
    {
     "data": {
      "image/png": "[encoded data removed]",
      "text/plain": [
       "<Figure size 432x288 with 1 Axes>"
      ]
     },
     "metadata": {},
     "output_type": "display_data"
    }
   ],
   "source": [
    "plt.ylim(0, 128)\n",
    "ch_env_cod_plot = sns.boxplot(y=change_max[\"coding_sites\"], x=\"change\", data=change_max, linewidth=1.1, palette=pooplete)\n",
    "# plt.suptitle(\"Effect of Changing Environment Rate on Number of Coding Sites\")\n",
    "# ch_env_cod_plot.set(title=\"Effect of Environmental Change Rate on Number of Coding Sites\", xlabel=\"Environmental Change Rate\", ylabel=\"Number of Coding Sites\")\n",
    "ch_env_cod_plot.set( xlabel=\"Environmental Change Rate\", ylabel=\"Number of Coding Sites\")\n",
    "\n",
    "sns.set(font_scale=1.3)\n",
    "sns.despine()\n",
    "sns.set_style('ticks')\n",
    "plt.tight_layout()\n",
    "plt.savefig(\"ch_env_coding.pdf\")"
   ]
  },
  {
   "cell_type": "code",
   "execution_count": 206,
   "metadata": {},
   "outputs": [
    {
     "data": {
      "image/png": "[encoded data removed]",
      "text/plain": [
       "<Figure size 648x288 with 1 Axes>"
      ]
     },
     "metadata": {},
     "output_type": "display_data"
    }
   ],
   "source": [
    "a4_dims = (9, 4)\n",
    "# df = mylib.load_data()\n",
    "fig, ax = plt.subplots(figsize=a4_dims)\n",
    "\n",
    "plt.ylim(8, 16)\n",
    "palite = [paliete[0] , paliete[6]]\n",
    "ch_mut_fit_both_plot = sns.boxplot(ax=ax, y=mut_tot[\"fitness\"], x=\"f\", hue=\"change\", data=mut_tot, palette=palite, linewidth=1)\n",
    "# plt.suptitle(\"Effect of Changing Environment on Fitness of Best Organism at Gen. 50,000\")\n",
    "labels = []\n",
    "for t in ch_mut_fit_both_plot.get_xticklabels():\n",
    "        if float(t.get_text()) == .00001:\n",
    "            labels.append('%.5f' % float(t.get_text()))\n",
    "        else: \n",
    "            labels.append(t.get_text())\n",
    "            \n",
    "ch_mut_fit_both_plot.set_xticklabels(labels)\n",
    "# ch_mut_fit_both_plot.set(title=\"Comparison of Environmental Change Rate to Fitness\", xlabel=\"Bit Flip Mutation Rate\", ylabel=\"Fitness\")\n",
    "ch_mut_fit_both_plot.set( xlabel=\"Bit Flip Mutation Rate\", ylabel=\"Fitness\")\n",
    "# title\n",
    "new_title = 'Change Rate'\n",
    "# ch_mut_fit_both_plot.legend.set_title(new_title)\n",
    "leg = ch_mut_fit_both_plot.get_legend()\n",
    "# new_title = 'My title'\n",
    "leg.set_title(new_title)\n",
    "sns.set(font_scale=1.5)\n",
    "sns.despine()\n",
    "sns.set_style('ticks')\n",
    "plt.tight_layout()\n",
    "plt.savefig(\"ch_mut_both_fitness.pdf\")"
   ]
  },
  {
   "cell_type": "code",
   "execution_count": 207,
   "metadata": {},
   "outputs": [
    {
     "data": {
      "image/png": "[encoded data removed]",
      "text/plain": [
       "<Figure size 648x288 with 1 Axes>"
      ]
     },
     "metadata": {},
     "output_type": "display_data"
    }
   ],
   "source": [
    "a4_dims = (9, 4)\n",
    "# df = mylib.load_data()\n",
    "fig, ax = plt.subplots(figsize=a4_dims)\n",
    "\n",
    "plt.ylim(0, 128)\n",
    "pal2 = [ pooplete[0], pooplete[6]]\n",
    "ch_mut_cod_both_plot = sns.boxplot(y=mut_tot[\"coding_sites\"], x=\"f\", hue=\"change\", data=mut_tot, palette=pal2, linewidth=1)\n",
    "# ch_mut_cod_both_plot.set(title=\"Comparison of Environmental Change Rate to Number of Coding Sites\", xlabel=\"Bit Flip Mutation Rate\", ylabel=\"Number of Coding Sites\")\n",
    "ch_mut_cod_both_plot.set(xlabel=\"Bit Flip Mutation Rate\", ylabel=\"Number of Coding Sites\")\n",
    "labels = []\n",
    "for t in ch_mut_cod_both_plot.get_xticklabels():\n",
    "        if float(t.get_text()) == .00001:\n",
    "            labels.append('%.5f' % float(t.get_text()))\n",
    "        else: \n",
    "            labels.append(t.get_text())\n",
    "            \n",
    "ch_mut_cod_both_plot.set_xticklabels(labels)\n",
    "new_title = 'Change Rate'\n",
    "# ch_mut_fit_both_plot.legend.set_title(new_title)\n",
    "leg = ch_mut_cod_both_plot.get_legend()\n",
    "# new_title = 'My title'\n",
    "leg.set_title(new_title)\n",
    "sns.set(font_scale=1.5)\n",
    "sns.despine()\n",
    "sns.set_style('ticks')\n",
    "plt.tight_layout()\n",
    "plt.savefig(\"ch_mut_both_change.pdf\")"
   ]
  },
  {
   "cell_type": "markdown",
   "metadata": {},
   "source": [
    "## Coding Sites Vs. Bit Flips Statistics (change rate 0)"
   ]
  },
  {
   "cell_type": "code",
   "execution_count": 208,
   "metadata": {},
   "outputs": [
    {
     "name": "stdout",
     "output_type": "stream",
     "text": [
      "The rpy2.ipython extension is already loaded. To reload it, use:\n",
      "  %reload_ext rpy2.ipython\n"
     ]
    }
   ],
   "source": [
    "%load_ext rpy2.ipython"
   ]
  },
  {
   "cell_type": "code",
   "execution_count": 209,
   "metadata": {},
   "outputs": [
    {
     "data": {
      "text/plain": [
       "\n",
       "\tPairwise comparisons using Wilcoxon rank sum test \n",
       "\n",
       "data:  mut_0_max$coding_sites and mut_0_max$f \n",
       "\n",
       "      0       1e-05   1e-04   0.001   0.003   0.01    0.03   \n",
       "1e-05 1.00000 -       -       -       -       -       -      \n",
       "1e-04 1.00000 1.00000 -       -       -       -       -      \n",
       "0.001 1.00000 0.83404 1.00000 -       -       -       -      \n",
       "0.003 0.00336 0.00045 0.00611 0.62718 -       -       -      \n",
       "0.01  < 2e-16 < 2e-16 < 2e-16 < 2e-16 < 2e-16 -       -      \n",
       "0.03  < 2e-16 < 2e-16 < 2e-16 < 2e-16 < 2e-16 < 2e-16 -      \n",
       "0.1   < 2e-16 < 2e-16 < 2e-16 < 2e-16 < 2e-16 < 2e-16 < 2e-16\n",
       "\n",
       "P value adjustment method: bonferroni \n"
      ]
     },
     "metadata": {},
     "output_type": "display_data"
    }
   ],
   "source": [
    "%%R -i mut_0_max \n",
    "?kruskal.test\n",
    "kruskal.test(coding_sites ~ f, mut_0_max)\n",
    "?pairwise.wilcox.test\n",
    "# pairwise.wilcox.test(coding_sites ~ mut_0_max)\n",
    "pairwise.wilcox.test(mut_0_max$coding_sites, mut_0_max$f, p.adjust.method = 'bonferroni' )\n",
    "# ?p.adjust"
   ]
  },
  {
   "cell_type": "markdown",
   "metadata": {},
   "source": [
    "## Fitness Vs. Bit Flips Statistics (change rate 0)"
   ]
  },
  {
   "cell_type": "code",
   "execution_count": 210,
   "metadata": {},
   "outputs": [
    {
     "data": {
      "text/plain": [
       "\n",
       "\tKruskal-Wallis rank sum test\n",
       "\n",
       "data:  fitness by f\n",
       "Kruskal-Wallis chi-squared = 554.56, df = 7, p-value < 2.2e-16\n",
       "\n",
       "\n",
       "\tPairwise comparisons using Wilcoxon rank sum test \n",
       "\n",
       "data:  mut_0_max$fitness and mut_0_max$f \n",
       "\n",
       "      0      1e-05  1e-04  0.001  0.003  0.01   0.03  \n",
       "1e-05 1      -      -      -      -      -      -     \n",
       "1e-04 1      1      -      -      -      -      -     \n",
       "0.001 1      1      1      -      -      -      -     \n",
       "0.003 1      1      1      1      -      -      -     \n",
       "0.01  <2e-16 <2e-16 <2e-16 <2e-16 <2e-16 -      -     \n",
       "0.03  <2e-16 <2e-16 <2e-16 <2e-16 <2e-16 <2e-16 -     \n",
       "0.1   <2e-16 <2e-16 <2e-16 <2e-16 <2e-16 <2e-16 <2e-16\n",
       "\n",
       "P value adjustment method: bonferroni \n"
      ]
     },
     "metadata": {},
     "output_type": "display_data"
    }
   ],
   "source": [
    "%%R -i mut_0_max \n",
    "?kruskal.test\n",
    "print(kruskal.test(fitness ~ f, mut_0_max))\n",
    "?pairwise.wilcox.test\n",
    "# pairwise.wilcox.test(coding_sites ~ mut_0_max)\n",
    "pairwise.wilcox.test(mut_0_max$fitness, mut_0_max$f, p.adjust.method = 'bonferroni' )\n",
    "# ?p.adjust"
   ]
  },
  {
   "cell_type": "markdown",
   "metadata": {},
   "source": [
    "## Coding Sites vs. Environmental Change rate (Bit flip rate of .003)"
   ]
  },
  {
   "cell_type": "code",
   "execution_count": 211,
   "metadata": {},
   "outputs": [
    {
     "data": {
      "text/plain": [
       "\n",
       "\tKruskal-Wallis rank sum test\n",
       "\n",
       "data:  coding_sites by change\n",
       "Kruskal-Wallis chi-squared = 410.01, df = 11, p-value < 2.2e-16\n",
       "\n",
       "\n",
       "\tPairwise comparisons using Wilcoxon rank sum test \n",
       "\n",
       "data:  change_max$coding_sites and change_max$change \n",
       "\n",
       "     0       1       2       5       10      20      50      100     200    \n",
       "1    < 2e-16 -       -       -       -       -       -       -       -      \n",
       "2    < 2e-16 0.35948 -       -       -       -       -       -       -      \n",
       "5    < 2e-16 0.00087 1.00000 -       -       -       -       -       -      \n",
       "10   < 2e-16 1.9e-07 0.12215 1.00000 -       -       -       -       -      \n",
       "20   < 2e-16 1.3e-06 0.26176 1.00000 1.00000 -       -       -       -      \n",
       "50   < 2e-16 2.0e-07 0.02019 1.00000 1.00000 1.00000 -       -       -      \n",
       "100  < 2e-16 0.00042 1.00000 1.00000 1.00000 1.00000 1.00000 -       -      \n",
       "200  < 2e-16 1.00000 1.00000 1.00000 0.03200 0.06496 0.00319 1.00000 -      \n",
       "500  1.6e-09 1.00000 0.00225 5.4e-06 3.2e-09 1.0e-08 2.9e-09 2.8e-06 0.02627\n",
       "1000 0.00108 0.00087 7.0e-08 1.9e-10 2.9e-14 1.8e-13 6.5e-14 6.7e-11 3.9e-06\n",
       "5000 1.00000 5.1e-08 4.5e-12 1.3e-14 < 2e-16 < 2e-16 < 2e-16 6.8e-15 1.0e-10\n",
       "     500     1000   \n",
       "1    -       -      \n",
       "2    -       -      \n",
       "5    -       -      \n",
       "10   -       -      \n",
       "20   -       -      \n",
       "50   -       -      \n",
       "100  -       -      \n",
       "200  -       -      \n",
       "500  -       -      \n",
       "1000 1.00000 -      \n",
       "5000 0.00038 0.24387\n",
       "\n",
       "P value adjustment method: bonferroni \n"
      ]
     },
     "metadata": {},
     "output_type": "display_data"
    }
   ],
   "source": [
    "%%R -i change_max \n",
    "?kruskal.test\n",
    "print(kruskal.test(coding_sites ~ change, change_max))\n",
    "?pairwise.wilcox.test\n",
    "# pairwise.wilcox.test(coding_sites ~ mut_0_max)\n",
    "pairwise.wilcox.test(change_max$coding_sites, change_max$change, p.adjust.method = 'bonferroni' )\n",
    "# ?p.adjust"
   ]
  },
  {
   "cell_type": "markdown",
   "metadata": {},
   "source": [
    "##  Fitness vs. Environmental Change rate (Bit flip rate of .003)"
   ]
  },
  {
   "cell_type": "code",
   "execution_count": 212,
   "metadata": {},
   "outputs": [
    {
     "data": {
      "text/plain": [
       "\n",
       "\tKruskal-Wallis rank sum test\n",
       "\n",
       "data:  fitness by change\n",
       "Kruskal-Wallis chi-squared = 1159.1, df = 11, p-value < 2.2e-16\n",
       "\n",
       "\n",
       "\tPairwise comparisons using Wilcoxon rank sum test \n",
       "\n",
       "data:  change_max$fitness and change_max$change \n",
       "\n",
       "     0       1       2       5       10      20      50      100     200    \n",
       "1    < 2e-16 -       -       -       -       -       -       -       -      \n",
       "2    < 2e-16 0.0025  -       -       -       -       -       -       -      \n",
       "5    < 2e-16 < 2e-16 < 2e-16 -       -       -       -       -       -      \n",
       "10   < 2e-16 < 2e-16 < 2e-16 1.3e-14 -       -       -       -       -      \n",
       "20   < 2e-16 < 2e-16 < 2e-16 < 2e-16 < 2e-16 -       -       -       -      \n",
       "50   < 2e-16 < 2e-16 < 2e-16 < 2e-16 < 2e-16 < 2e-16 -       -       -      \n",
       "100  < 2e-16 < 2e-16 < 2e-16 < 2e-16 < 2e-16 < 2e-16 < 2e-16 -       -      \n",
       "200  < 2e-16 < 2e-16 < 2e-16 < 2e-16 < 2e-16 < 2e-16 < 2e-16 < 2e-16 -      \n",
       "500  < 2e-16 < 2e-16 < 2e-16 < 2e-16 < 2e-16 < 2e-16 < 2e-16 < 2e-16 < 2e-16\n",
       "1000 < 2e-16 < 2e-16 < 2e-16 < 2e-16 < 2e-16 < 2e-16 < 2e-16 < 2e-16 < 2e-16\n",
       "5000 < 2e-16 < 2e-16 < 2e-16 < 2e-16 < 2e-16 < 2e-16 < 2e-16 < 2e-16 < 2e-16\n",
       "     500     1000   \n",
       "1    -       -      \n",
       "2    -       -      \n",
       "5    -       -      \n",
       "10   -       -      \n",
       "20   -       -      \n",
       "50   -       -      \n",
       "100  -       -      \n",
       "200  -       -      \n",
       "500  -       -      \n",
       "1000 2.9e-10 -      \n",
       "5000 < 2e-16 4.6e-11\n",
       "\n",
       "P value adjustment method: bonferroni \n"
      ]
     },
     "metadata": {},
     "output_type": "display_data"
    }
   ],
   "source": [
    "%%R -i change_max \n",
    "?kruskal.test\n",
    "print(kruskal.test(fitness ~ change, change_max))\n",
    "?pairwise.wilcox.test\n",
    "# pairwise.wilcox.test(coding_sites ~ mut_0_max)\n",
    "pairwise.wilcox.test(change_max$fitness, change_max$change, p.adjust.method = 'bonferroni' )\n",
    "# ?p.adjust"
   ]
  },
  {
   "cell_type": "markdown",
   "metadata": {},
   "source": [
    "## Coding sites of change 0 vs. change 50"
   ]
  },
  {
   "cell_type": "code",
   "execution_count": 241,
   "metadata": {},
   "outputs": [
    {
     "data": {
      "text/plain": [
       "[1] 1e-03 0e+00 3e-03 3e-02 1e-04 1e-02 1e-05 1e-01\n",
       "[1] 0.001\n",
       "\n",
       "\tWilcoxon rank sum test with continuity correction\n",
       "\n",
       "data:  coding_sites by change\n",
       "W = 1.5, p-value < 2.2e-16\n",
       "alternative hypothesis: true location shift is not equal to 0\n",
       "\n",
       "[1] 0\n",
       "\n",
       "\tWilcoxon rank sum test with continuity correction\n",
       "\n",
       "data:  coding_sites by change\n",
       "W = 2, p-value < 2.2e-16\n",
       "alternative hypothesis: true location shift is not equal to 0\n",
       "\n",
       "[1] 0.003\n",
       "\n",
       "\tWilcoxon rank sum test with continuity correction\n",
       "\n",
       "data:  coding_sites by change\n",
       "W = 397, p-value < 2.2e-16\n",
       "alternative hypothesis: true location shift is not equal to 0\n",
       "\n",
       "[1] 0.03\n",
       "\n",
       "\tWilcoxon rank sum test with continuity correction\n",
       "\n",
       "data:  coding_sites by change\n",
       "W = 8409, p-value < 2.2e-16\n",
       "alternative hypothesis: true location shift is not equal to 0\n",
       "\n",
       "[1] 1e-04\n",
       "\n",
       "\tWilcoxon rank sum test with continuity correction\n",
       "\n",
       "data:  coding_sites by change\n",
       "W = 2.5, p-value < 2.2e-16\n",
       "alternative hypothesis: true location shift is not equal to 0\n",
       "\n",
       "[1] 0.01\n",
       "\n",
       "\tWilcoxon rank sum test with continuity correction\n",
       "\n",
       "data:  coding_sites by change\n",
       "W = 2997, p-value = 9.623e-07\n",
       "alternative hypothesis: true location shift is not equal to 0\n",
       "\n",
       "[1] 1e-05\n",
       "\n",
       "\tWilcoxon rank sum test with continuity correction\n",
       "\n",
       "data:  coding_sites by change\n",
       "W = 0, p-value < 2.2e-16\n",
       "alternative hypothesis: true location shift is not equal to 0\n",
       "\n",
       "[1] 0.1\n",
       "\n",
       "\tWilcoxon rank sum test with continuity correction\n",
       "\n",
       "data:  coding_sites by change\n",
       "W = 4072.5, p-value = 0.02301\n",
       "alternative hypothesis: true location shift is not equal to 0\n",
       "\n"
      ]
     },
     "metadata": {},
     "output_type": "display_data"
    }
   ],
   "source": [
    "%%R -i mut_compare,arr \n",
    "print(arr)\n",
    "for (i in arr) {\n",
    "    print(i)\n",
    "    print(wilcox.test(coding_sites ~ change, mut_compare[mut_compare$f == i, ]))\n",
    "#     print(mut_compare[mut_compare$f == i, ])\n",
    "}\n",
    "# ?kruskal.test\n",
    "# mut_tot[(mut_tot[\"f\"] == .0) & ((mut_tot[\"change\"] == 0 ) | (mut_tot[\"change\"] == 50 ))] \n",
    "\n",
    "\n",
    "\n",
    "# for i in []\n",
    "\n",
    "# p?rint(kruskal.test(coding_sites ~ change, change_max))\n",
    "# ?pairwise.wilcox.test\n",
    "# pairwise.wilcox.test(coding_sites ~ mut_0_max)\n",
    "# ?pairwise.wilcox.test(change_max$fitness, change_max$change, p.adjust.method = 'bonferroni' )\n",
    "# ?p.adjust\n",
    "# ?wilcox.test\n",
    "# wilcox.test(coding_sites ~ change, mut_tot[[\"\"],])"
   ]
  },
  {
   "cell_type": "code",
   "execution_count": 242,
   "metadata": {},
   "outputs": [
    {
     "data": {
      "text/plain": [
       "[1] 1e-03 0e+00 3e-03 3e-02 1e-04 1e-02 1e-05 1e-01\n",
       "[1] 0.001\n",
       "\n",
       "\tWilcoxon rank sum test with continuity correction\n",
       "\n",
       "data:  fitness by change\n",
       "W = 10000, p-value < 2.2e-16\n",
       "alternative hypothesis: true location shift is not equal to 0\n",
       "\n",
       "[1] 0\n",
       "\n",
       "\tWilcoxon rank sum test with continuity correction\n",
       "\n",
       "data:  fitness by change\n",
       "W = 10000, p-value < 2.2e-16\n",
       "alternative hypothesis: true location shift is not equal to 0\n",
       "\n",
       "[1] 0.003\n",
       "\n",
       "\tWilcoxon rank sum test with continuity correction\n",
       "\n",
       "data:  fitness by change\n",
       "W = 10000, p-value < 2.2e-16\n",
       "alternative hypothesis: true location shift is not equal to 0\n",
       "\n",
       "[1] 0.03\n",
       "\n",
       "\tWilcoxon rank sum test with continuity correction\n",
       "\n",
       "data:  fitness by change\n",
       "W = 10000, p-value < 2.2e-16\n",
       "alternative hypothesis: true location shift is not equal to 0\n",
       "\n",
       "[1] 1e-04\n",
       "\n",
       "\tWilcoxon rank sum test with continuity correction\n",
       "\n",
       "data:  fitness by change\n",
       "W = 10000, p-value < 2.2e-16\n",
       "alternative hypothesis: true location shift is not equal to 0\n",
       "\n",
       "[1] 0.01\n",
       "\n",
       "\tWilcoxon rank sum test with continuity correction\n",
       "\n",
       "data:  fitness by change\n",
       "W = 10000, p-value < 2.2e-16\n",
       "alternative hypothesis: true location shift is not equal to 0\n",
       "\n",
       "[1] 1e-05\n",
       "\n",
       "\tWilcoxon rank sum test with continuity correction\n",
       "\n",
       "data:  fitness by change\n",
       "W = 10000, p-value < 2.2e-16\n",
       "alternative hypothesis: true location shift is not equal to 0\n",
       "\n",
       "[1] 0.1\n",
       "\n",
       "\tWilcoxon rank sum test with continuity correction\n",
       "\n",
       "data:  fitness by change\n",
       "W = 10000, p-value < 2.2e-16\n",
       "alternative hypothesis: true location shift is not equal to 0\n",
       "\n"
      ]
     },
     "metadata": {},
     "output_type": "display_data"
    }
   ],
   "source": [
    "%%R -i mut_compare,arr \n",
    "print(arr)\n",
    "for (i in arr) {\n",
    "    print(i)\n",
    "    print(wilcox.test(fitness ~ change, mut_compare[mut_compare$f == i, ]))\n",
    "#     print(mut_compare[mut_compare$f == i, ])\n",
    "}\n",
    "# ?kruskal.test\n",
    "# mut_tot[(mut_tot[\"f\"] == .0) & ((mut_tot[\"change\"] == 0 ) | (mut_tot[\"change\"] == 50 ))] \n",
    "\n",
    "\n",
    "\n",
    "# for i in []\n",
    "\n",
    "# p?rint(kruskal.test(coding_sites ~ change, change_max))\n",
    "# ?pairwise.wilcox.test\n",
    "# pairwise.wilcox.test(coding_sites ~ mut_0_max)\n",
    "# ?pairwise.wilcox.test(change_max$fitness, change_max$change, p.adjust.method = 'bonferroni' )\n",
    "# ?p.adjust\n",
    "# ?wilcox.test\n",
    "# wilcox.test(coding_sites ~ change, mut_tot[[\"\"],])"
   ]
  },
  {
   "cell_type": "markdown",
   "metadata": {},
   "source": [
    "## Fitness Vs. Bit Flips Statistics (change rate 0)"
   ]
  },
  {
   "cell_type": "code",
   "execution_count": null,
   "metadata": {},
   "outputs": [],
   "source": []
  }
 ],
 "metadata": {
  "kernelspec": {
   "display_name": "Python 3",
   "language": "python",
   "name": "python3"
  },
  "language_info": {
   "codemirror_mode": {
    "name": "ipython",
    "version": 3
   },
   "file_extension": ".py",
   "mimetype": "text/x-python",
   "name": "python",
   "nbconvert_exporter": "python",
   "pygments_lexer": "ipython3",
   "version": "3.6.8"
  }
 },
 "nbformat": 4,
 "nbformat_minor": 2
}
